{
 "cells": [
  {
   "cell_type": "markdown",
   "metadata": {},
   "source": [
    "# **Basic Python**"
   ]
  },
  {
   "cell_type": "markdown",
   "metadata": {},
   "source": [
    "## 1.a \n",
    "Give a function F that takes a single argument n. This function should print a sequence of n strings as described in the examples below: <br>\n",
    "Ex: **n = 3**\n",
    "\n",
    "--A--<br>\n",
    "-BAB-<br>\n",
    "CBABC<br>\n",
    "\n",
    "**n = 4**\n",
    "\n",
    "---A---<br>\n",
    "--BAB--<br>\n",
    "-CBABC-<br>\n",
    "DCBABCD"
   ]
  },
  {
   "cell_type": "code",
   "execution_count": 19,
   "metadata": {},
   "outputs": [
    {
     "name": "stdout",
     "output_type": "stream",
     "text": [
      "---------A---------\n",
      "--------BAB--------\n",
      "-------CBABC-------\n",
      "------DCBABCD------\n",
      "-----EDCBABCDE-----\n",
      "----FEDCBABCDEF----\n",
      "---GFEDCBABCDEFG---\n",
      "--HGFEDCBABCDEFGH--\n",
      "-IHGFEDCBABCDEFGHI-\n",
      "JIHGFEDCBABCDEFGHIJ\n",
      "-----A-----\n",
      "----BAB----\n",
      "---CBABC---\n",
      "--DCBABCD--\n",
      "-EDCBABCDE-\n",
      "FEDCBABCDEF\n"
     ]
    }
   ],
   "source": [
    "def F(n):\n",
    "    for ln in range(1, n+1):\n",
    "        str = '-' * (n-ln)\n",
    "        start = 65 + ln - 1\n",
    "        for i in range(start, 65, -1):\n",
    "            str += chr(i)\n",
    "        for i in range(65, start+1):\n",
    "            str += chr(i)\n",
    "        str += '-' * (n-ln)\n",
    "        print(str)\n",
    "# Tests\n",
    "F(10)\n",
    "F(6)"
   ]
  },
  {
   "cell_type": "markdown",
   "metadata": {},
   "source": [
    "## 1.b\n",
    "Make a function F that takes only one argument, a dictionary(dict) d.\n",
    "The keys of d are integers and the values of d are a tuple of type (x (int), y (int)).\n",
    "You must print out the dict in the format \"-key-, -x-, -y-\" with each entry in a new line. Print it for each of the three sorted orders, by key values ascending, by x values descending, by y values ascending."
   ]
  },
  {
   "cell_type": "code",
   "execution_count": 35,
   "metadata": {},
   "outputs": [
    {
     "name": "stdout",
     "output_type": "stream",
     "text": [
      "sorted by key\n",
      "1,1,2\n",
      "2,-1,4\n",
      "4,2,3\n",
      "5,-4,3\n",
      "Sorted by x\n",
      "4,2,3\n",
      "1,1,2\n",
      "2,-1,4\n",
      "5,-4,3\n",
      "sorted by y\n",
      "1,1,2\n",
      "5,-4,3\n",
      "4,2,3\n",
      "2,-1,4\n",
      "sorted by key\n",
      "-8,4,2\n",
      "5,9,-10\n",
      "6,-3,4\n",
      "7,2,1\n",
      "Sorted by x\n",
      "5,9,-10\n",
      "-8,4,2\n",
      "7,2,1\n",
      "6,-3,4\n",
      "sorted by y\n",
      "5,9,-10\n",
      "7,2,1\n",
      "-8,4,2\n",
      "6,-3,4\n"
     ]
    }
   ],
   "source": [
    "def F(d : dict):\n",
    "    sorted_keys = sorted(d.keys())\n",
    "    print(\"sorted by key\")\n",
    "    for i in range(len(sorted_keys)):\n",
    "        a, b = d[sorted_keys[i]]\n",
    "        print(str(sorted_keys[i]) + ',' + str(a) +',' + str(b))\n",
    "\n",
    "    print(\"Sorted by x\")\n",
    "    sorted_by_x = sorted(d.items(), key=lambda item : item[1][0], reverse=True)\n",
    "    for i in range(len(sorted_by_x)):\n",
    "        (key, (a, b)) = sorted_by_x[i]\n",
    "        print(str(key) + ',' + str(a)  + ','+ str(b)) \n",
    "\n",
    "    print(\"sorted by y\")\n",
    "    sorted_by_y = sorted(d.items(), key = lambda item : item[1][1])\n",
    "    for i in range(len(sorted_by_y)):\n",
    "        (key, (a, b)) = sorted_by_y[i]\n",
    "        print(str(key) + ',' + str(a)  + ','+ str(b))\n",
    "\n",
    "    \n",
    "        \n",
    "\n",
    "# Tests\n",
    "F({1 : (1, 2), 2 : (-1, 4), 5 : (-4, 3), 4 : (2, 3)})\n",
    "F({-8 : (4, 2), 6 : (-3, 4), 7 : (2, 1), 5 : (9, -10)})"
   ]
  },
  {
   "cell_type": "markdown",
   "metadata": {},
   "source": [
    "## 2 Working with Student Records\n",
    "\n",
    "Use the data in **student_records.csv** to complete the given tasks. Do not include any external libraries. Use a Python dictionary if required.\n",
    "\n",
    "### Reference\n",
    "- [Python Dictionaries](https://www.w3schools.com/python/python_dictionaries.asp)\n"
   ]
  },
  {
   "cell_type": "markdown",
   "metadata": {},
   "source": [
    "#### 2.a: open the student_records.csv file and print out the first 10 rows"
   ]
  },
  {
   "cell_type": "code",
   "execution_count": 66,
   "metadata": {},
   "outputs": [
    {
     "name": "stdout",
     "output_type": "stream",
     "text": [
      "{'roll_number': '588946', 'department': 'MA', 'credit': '3', 'course_name': 'EC250', 'course_type': 'hasmed_elective', 'grade': 'AB'}\n",
      "{'roll_number': '145372', 'department': 'EP', 'credit': '4', 'course_name': 'EP407', 'course_type': 'hasmed_elective', 'grade': 'CC'}\n",
      "{'roll_number': '834515', 'department': 'MA', 'credit': '8', 'course_name': 'EP885', 'course_type': 'hasmed_elective', 'grade': 'BB'}\n",
      "{'roll_number': '344265', 'department': 'CSE', 'credit': '6', 'course_name': 'CSE699', 'course_type': 'honours', 'grade': 'AB'}\n",
      "{'roll_number': '358405', 'department': 'MA', 'credit': '3', 'course_name': 'EE460', 'course_type': 'minor', 'grade': 'AP'}\n",
      "{'roll_number': '781075', 'department': 'CE', 'credit': '8', 'course_name': 'CE540', 'course_type': 'honours', 'grade': 'CC'}\n",
      "{'roll_number': '180828', 'department': 'CSE', 'credit': '6', 'course_name': 'CE880', 'course_type': 'minor', 'grade': 'AB'}\n",
      "{'roll_number': '981238', 'department': 'MM', 'credit': '4', 'course_name': 'CSE226', 'course_type': 'minor', 'grade': 'AB'}\n",
      "{'roll_number': '836881', 'department': 'MM', 'credit': '8', 'course_name': 'MM530', 'course_type': 'core', 'grade': 'AA'}\n",
      "{'roll_number': '310604', 'department': 'EE', 'credit': '8', 'course_name': 'EE202', 'course_type': 'core', 'grade': 'AB'}\n"
     ]
    }
   ],
   "source": [
    "#TODO\n",
    "def open_file(filepath):\n",
    "    data = {}\n",
    "    with open(filepath, 'r') as students_records:\n",
    "        lines = students_records.readlines()\n",
    "        headers = lines[0].strip().split(',')\n",
    "        for line_no, line in enumerate(lines[1:]):\n",
    "            values = line.strip().split(',')\n",
    "            row = {headers[i] : values[i] for i in range(len(values))}\n",
    "            data[line_no + 1] = row\n",
    "    return data\n",
    "\n",
    "filepath = 'student_records.csv'\n",
    "data = open_file(filepath)\n",
    "for i in range(1, 11) :\n",
    "    print(data[i]) \n",
    "    "
   ]
  },
  {
   "cell_type": "markdown",
   "metadata": {},
   "source": [
    "#### 2.b: Print out the total credits and calculte CPI of each student. \n",
    "CPI is the weighted average of core courses, and electives (weights being the letter grades converted to number AP,AA=10, AB=9, BB=9, BC=7, CC=6)"
   ]
  },
  {
   "cell_type": "code",
   "execution_count": null,
   "metadata": {},
   "outputs": [
    {
     "name": "stdout",
     "output_type": "stream",
     "text": [
      "{'588946': 8.693467336683417, '145372': 7.745664739884393, '834515': 8.21608040201005, '344265': 8.699346405228757, '358405': 8.587378640776699, '781075': 8.170731707317072, '180828': 8.096045197740112, '981238': 8.244047619047619, '836881': 8.386178861788618, '310604': 8.333333333333334, '847809': 8.210727969348659, '773982': 8.068181818181818, '500658': 8.16826923076923, '810863': 8.151041666666666, '124663': 8.126637554585153, '364146': 8.395555555555555, '871746': 8.212962962962964, '270007': 8.033195020746888, '597353': 8.12, '986057': 8.06532663316583, '718510': 8.429347826086957, '836431': 7.9, '379479': 8.246153846153845, '582912': 8.656108597285067, '788020': 8.015544041450777, '613401': 8.440191387559809, '144528': 8.157894736842104, '485484': 8.36111111111111, '680096': 8.045751633986928, '199713': 8.290697674418604, '851029': 8.322981366459627, '845623': 8.375527426160337, '150503': 8.289017341040463, '214270': 7.877729257641922, '517837': 8.580487804878048, '482623': 8.401574803149606, '721490': 8.34468085106383, '955757': 8.290836653386455, '589528': 8.732026143790849, '143856': 8.487562189054726, '571782': 8.423963133640553, '973158': 8.512953367875648, '703403': 8.338582677165354, '960395': 8.625954198473282, '521087': 7.910313901345291, '461971': 8.293650793650794, '879634': 8.738916256157635, '716985': 8.183783783783785, '194063': 8.140127388535031, '265922': 8.347457627118644, '283796': 8.815165876777252, '203200': 8.789808917197453, '301135': 8.325242718446601, '327122': 8.16260162601626, '381526': 8.425, '534763': 7.930379746835443, '391848': 8.43778801843318, '329535': 8.229299363057326, '971123': 7.961904761904762, '207443': 8.304347826086957, '488661': 8.60483870967742, '782129': 8.53804347826087, '928288': 8.513089005235603, '581858': 8.050925925925926, '733782': 8.420118343195266, '282482': 8.289473684210526, '572815': 8.316037735849056, '608952': 8.326693227091633, '628849': 8.71584699453552, '630568': 8.244239631336406, '388969': 8.314410480349345, '159438': 8.380681818181818, '478606': 8.319672131147541, '995208': 7.7834394904458595, '841365': 7.994350282485875, '870642': 8.01863354037267, '970791': 8.122727272727273, '143142': 8.782051282051283, '998293': 8.695652173913043, '907454': 8.269387755102041, '681499': 8.256410256410257, '888886': 8.270531400966183, '608522': 8.61006289308176, '362471': 7.929906542056075, '465496': 8.303571428571429, '208100': 8.587912087912088, '138296': 8.275, '775967': 8.431472081218274, '692318': 8.166666666666666, '461584': 8.235042735042734, '626000': 8.428571428571429, '458200': 8.394736842105264, '581065': 8.224489795918368, '787967': 8.411458333333334, '381227': 8.223463687150838, '750259': 8.354066985645932, '881983': 8.325443786982248, '294697': 8.572490706319703, '816041': 8.462025316455696, '993835': 8.434285714285714}\n"
     ]
    }
   ],
   "source": [
    "#TODO\n",
    "\n",
    "grades_dict = {'AP' : 10,\n",
    "               'AA' : 10,\n",
    "               'AB' : 9,'BB' : 8,\n",
    "               'BC' : 7,'CC' : 6,\n",
    "               }\n",
    "\n",
    "student_data = {}\n",
    "for i in data.items():\n",
    "    key, dictionary = i\n",
    "    if dictionary['roll_number'] in student_data: \n",
    "        student_data[dictionary['roll_number']].append(dictionary)\n",
    "    else : \n",
    "        student_data[dictionary['roll_number']] = [dictionary]\n",
    "\n",
    "student_cpi = {}\n",
    "\n",
    "for key, vals in student_data.items():\n",
    "    student_cpi[key] = 0\n",
    "    grade_sum = 0 \n",
    "    credit_sum = 0\n",
    "    for entry in vals:\n",
    "        course_type = entry['course_type']\n",
    "        credit = entry['credit']\n",
    "        grade = entry['grade']\n",
    "        if course_type != 'minor' or course_type != 'alc' or course_type != 'honours' : \n",
    "            credit_sum += int(credit)\n",
    "            grade_sum += grades_dict[grade] * int(credit)\n",
    "    if grade_sum != 0 : \n",
    "        student_cpi[key] = grade_sum/credit_sum\n",
    "    else : \n",
    "        student_cpi[key] = 0\n",
    "\n",
    "print(student_cpi)"
   ]
  },
  {
   "cell_type": "markdown",
   "metadata": {},
   "source": [
    "#### 2.c: Print out the names of all students who meet the graduation requirements \n",
    "Atleast 20 credist of core course, 15 credits of department elective, 10 credits of flexible elective and 5 credits of hasmed electives"
   ]
  },
  {
   "cell_type": "code",
   "execution_count": null,
   "metadata": {},
   "outputs": [
    {
     "name": "stdout",
     "output_type": "stream",
     "text": [
      "{'588946': {'core_total': 34, 'De_total': 30, 'Fe_total': 25, 'Hasmed_total': 26, 'alc_total': 27, 'honours_total': 20, 'minor_total': 37}, '145372': {'core_total': 20, 'De_total': 31, 'Fe_total': 8, 'Hasmed_total': 39, 'alc_total': 24, 'honours_total': 18, 'minor_total': 33}, '834515': {'core_total': 50, 'De_total': 15, 'Fe_total': 53, 'Hasmed_total': 28, 'alc_total': 6, 'honours_total': 32, 'minor_total': 15}, '344265': {'core_total': 11, 'De_total': 18, 'Fe_total': 20, 'Hasmed_total': 31, 'alc_total': 18, 'honours_total': 27, 'minor_total': 28}, '358405': {'core_total': 15, 'De_total': 12, 'Fe_total': 49, 'Hasmed_total': 44, 'alc_total': 23, 'honours_total': 34, 'minor_total': 29}, '781075': {'core_total': 63, 'De_total': 23, 'Fe_total': 46, 'Hasmed_total': 36, 'alc_total': 26, 'honours_total': 32, 'minor_total': 20}, '180828': {'core_total': 29, 'De_total': 22, 'Fe_total': 40, 'Hasmed_total': 23, 'alc_total': 41, 'honours_total': 7, 'minor_total': 15}, '981238': {'core_total': 64, 'De_total': 17, 'Fe_total': 10, 'Hasmed_total': 29, 'alc_total': 18, 'honours_total': 8, 'minor_total': 22}, '836881': {'core_total': 24, 'De_total': 37, 'Fe_total': 11, 'Hasmed_total': 44, 'alc_total': 50, 'honours_total': 28, 'minor_total': 52}, '310604': {'core_total': 26, 'De_total': 35, 'Fe_total': 32, 'Hasmed_total': 22, 'alc_total': 45, 'honours_total': 31, 'minor_total': 7}, '847809': {'core_total': 15, 'De_total': 22, 'Fe_total': 18, 'Hasmed_total': 45, 'alc_total': 79, 'honours_total': 16, 'minor_total': 66}, '773982': {'core_total': 53, 'De_total': 47, 'Fe_total': 17, 'Hasmed_total': 22, 'alc_total': 43, 'honours_total': 57, 'minor_total': 25}, '500658': {'core_total': 34, 'De_total': 37, 'Fe_total': 14, 'Hasmed_total': 43, 'alc_total': 33, 'honours_total': 26, 'minor_total': 21}, '810863': {'core_total': 46, 'De_total': 28, 'Fe_total': 28, 'Hasmed_total': 6, 'alc_total': 35, 'honours_total': 13, 'minor_total': 36}, '124663': {'core_total': 53, 'De_total': 22, 'Fe_total': 19, 'Hasmed_total': 6, 'alc_total': 49, 'honours_total': 43, 'minor_total': 37}, '364146': {'core_total': 21, 'De_total': 11, 'Fe_total': 30, 'Hasmed_total': 32, 'alc_total': 54, 'honours_total': 40, 'minor_total': 37}, '871746': {'core_total': 31, 'De_total': 29, 'Fe_total': 20, 'Hasmed_total': 31, 'alc_total': 63, 'honours_total': 28, 'minor_total': 14}, '270007': {'core_total': 17, 'De_total': 22, 'Fe_total': 54, 'Hasmed_total': 47, 'alc_total': 42, 'honours_total': 37, 'minor_total': 22}, '597353': {'core_total': 10, 'De_total': 28, 'Fe_total': 18, 'Hasmed_total': 21, 'alc_total': 35, 'honours_total': 18, 'minor_total': 70}, '986057': {'core_total': 22, 'De_total': 61, 'Fe_total': 31, 'Hasmed_total': 34, 'alc_total': 24, 'honours_total': 14, 'minor_total': 13}, '718510': {'core_total': 23, 'De_total': 32, 'Fe_total': 6, 'Hasmed_total': 57, 'alc_total': 18, 'honours_total': 24, 'minor_total': 24}, '836431': {'core_total': 7, 'De_total': 16, 'Fe_total': 25, 'Hasmed_total': 30, 'alc_total': 9, 'honours_total': 42, 'minor_total': 31}, '379479': {'core_total': 72, 'De_total': 16, 'Fe_total': 31, 'Hasmed_total': 36, 'alc_total': 15, 'honours_total': 52, 'minor_total': 38}, '582912': {'core_total': 22, 'De_total': 12, 'Fe_total': 55, 'Hasmed_total': 20, 'alc_total': 31, 'honours_total': 54, 'minor_total': 27}, '788020': {'core_total': 39, 'De_total': 15, 'Fe_total': 3, 'Hasmed_total': 33, 'alc_total': 42, 'honours_total': 24, 'minor_total': 37}, '613401': {'core_total': 39, 'De_total': 3, 'Fe_total': 30, 'Hasmed_total': 43, 'alc_total': 14, 'honours_total': 54, 'minor_total': 26}, '144528': {'core_total': 26, 'De_total': 28, 'Fe_total': 28, 'Hasmed_total': 30, 'alc_total': 42, 'honours_total': 51, 'minor_total': 23}, '485484': {'core_total': 32, 'De_total': 36, 'Fe_total': 30, 'Hasmed_total': 34, 'alc_total': 28, 'honours_total': 42, 'minor_total': 14}, '680096': {'core_total': 10, 'De_total': 21, 'Fe_total': 17, 'Hasmed_total': 20, 'alc_total': 15, 'honours_total': 48, 'minor_total': 22}, '199713': {'core_total': 35, 'De_total': 20, 'Fe_total': 8, 'Hasmed_total': 42, 'alc_total': 10, 'honours_total': 21, 'minor_total': 36}, '851029': {'core_total': 16, 'De_total': 38, 'Fe_total': 16, 'Hasmed_total': 44, 'alc_total': 12, 'honours_total': 23, 'minor_total': 12}, '845623': {'core_total': 26, 'De_total': 41, 'Fe_total': 40, 'Hasmed_total': 62, 'alc_total': 38, 'honours_total': 11, 'minor_total': 19}, '150503': {'core_total': 47, 'De_total': 25, 'Fe_total': 34, 'Hasmed_total': 30, 'alc_total': 3, 'honours_total': 19, 'minor_total': 15}, '214270': {'core_total': 31, 'De_total': 26, 'Fe_total': 28, 'Hasmed_total': 41, 'alc_total': 30, 'honours_total': 38, 'minor_total': 35}, '517837': {'core_total': 29, 'De_total': 16, 'Fe_total': 16, 'Hasmed_total': 40, 'alc_total': 43, 'honours_total': 41, 'minor_total': 20}, '482623': {'core_total': 47, 'De_total': 21, 'Fe_total': 25, 'Hasmed_total': 30, 'alc_total': 41, 'honours_total': 42, 'minor_total': 48}, '721490': {'core_total': 63, 'De_total': 25, 'Fe_total': 26, 'Hasmed_total': 56, 'alc_total': 23, 'honours_total': 15, 'minor_total': 27}, '955757': {'core_total': 25, 'De_total': 41, 'Fe_total': 28, 'Hasmed_total': 36, 'alc_total': 69, 'honours_total': 22, 'minor_total': 30}, '589528': {'core_total': 24, 'De_total': 14, 'Fe_total': 49, 'Hasmed_total': 9, 'alc_total': 20, 'honours_total': 30, 'minor_total': 7}, '143856': {'core_total': 53, 'De_total': 29, 'Fe_total': 23, 'Hasmed_total': 17, 'alc_total': 29, 'honours_total': 15, 'minor_total': 35}, '571782': {'core_total': 23, 'De_total': 23, 'Fe_total': 14, 'Hasmed_total': 33, 'alc_total': 54, 'honours_total': 32, 'minor_total': 38}, '973158': {'core_total': 22, 'De_total': 37, 'Fe_total': 28, 'Hasmed_total': 24, 'alc_total': 35, 'honours_total': 15, 'minor_total': 32}, '703403': {'core_total': 27, 'De_total': 30, 'Fe_total': 18, 'Hasmed_total': 33, 'alc_total': 39, 'honours_total': 54, 'minor_total': 53}, '960395': {'core_total': 34, 'De_total': 33, 'Fe_total': 17, 'Hasmed_total': 38, 'alc_total': 46, 'honours_total': 50, 'minor_total': 44}, '521087': {'core_total': 37, 'De_total': 24, 'Fe_total': 19, 'Hasmed_total': 7, 'alc_total': 61, 'honours_total': 45, 'minor_total': 30}, '461971': {'core_total': 42, 'De_total': 39, 'Fe_total': 44, 'Hasmed_total': 44, 'alc_total': 22, 'honours_total': 16, 'minor_total': 45}, '879634': {'core_total': 33, 'De_total': 16, 'Fe_total': 46, 'Hasmed_total': 14, 'alc_total': 34, 'honours_total': 23, 'minor_total': 37}, '716985': {'core_total': 31, 'De_total': 34, 'Fe_total': 41, 'Hasmed_total': 6, 'alc_total': 24, 'honours_total': 11, 'minor_total': 38}, '194063': {'core_total': 7, 'De_total': 40, 'Fe_total': 24, 'Hasmed_total': 32, 'alc_total': 13, 'honours_total': 29, 'minor_total': 12}, '265922': {'core_total': 51, 'De_total': 25, 'Fe_total': 49, 'Hasmed_total': 38, 'alc_total': 31, 'honours_total': 15, 'minor_total': 27}, '283796': {'core_total': 45, 'De_total': 38, 'Fe_total': 19, 'Hasmed_total': 12, 'alc_total': 30, 'honours_total': 35, 'minor_total': 32}, '203200': {'core_total': 37, 'De_total': 19, 'Fe_total': 16, 'Hasmed_total': 21, 'alc_total': 16, 'honours_total': 26, 'minor_total': 22}, '301135': {'core_total': 19, 'De_total': 28, 'Fe_total': 38, 'Hasmed_total': 14, 'alc_total': 41, 'honours_total': 37, 'minor_total': 29}, '327122': {'core_total': 60, 'De_total': 32, 'Fe_total': 59, 'Hasmed_total': 39, 'alc_total': 31, 'honours_total': 15, 'minor_total': 10}, '381526': {'core_total': 13, 'De_total': 20, 'Fe_total': 24, 'Hasmed_total': 29, 'alc_total': 8, 'honours_total': 32, 'minor_total': 34}, '534763': {'core_total': 23, 'De_total': 30, 'Fe_total': 11, 'Hasmed_total': 37, 'alc_total': 17, 'honours_total': 25, 'minor_total': 15}, '391848': {'core_total': 35, 'De_total': 59, 'Fe_total': 28, 'Hasmed_total': 32, 'alc_total': 20, 'honours_total': 15, 'minor_total': 28}, '329535': {'core_total': 25, 'De_total': 8, 'Fe_total': 56, 'Hasmed_total': 7, 'alc_total': 28, 'honours_total': 6, 'minor_total': 27}, '971123': {'core_total': 31, 'De_total': 16, 'Fe_total': 31, 'Hasmed_total': 31, 'alc_total': 46, 'honours_total': 33, 'minor_total': 22}, '207443': {'core_total': 45, 'De_total': 21, 'Fe_total': 14, 'Hasmed_total': 31, 'alc_total': 22, 'honours_total': 18, 'minor_total': 10}, '488661': {'core_total': 42, 'De_total': 42, 'Fe_total': 32, 'Hasmed_total': 37, 'alc_total': 60, 'honours_total': 24, 'minor_total': 11}, '782129': {'core_total': 34, 'De_total': 24, 'Fe_total': 15, 'Hasmed_total': 24, 'alc_total': 39, 'honours_total': 25, 'minor_total': 23}, '928288': {'core_total': 32, 'De_total': 27, 'Fe_total': 33, 'Hasmed_total': 35, 'alc_total': 26, 'honours_total': 30, 'minor_total': 8}, '581858': {'core_total': 50, 'De_total': 42, 'Fe_total': 14, 'Hasmed_total': 40, 'alc_total': 23, 'honours_total': 24, 'minor_total': 23}, '733782': {'core_total': 14, 'De_total': 21, 'Fe_total': 61, 'Hasmed_total': 3, 'alc_total': 22, 'honours_total': 16, 'minor_total': 32}, '282482': {'core_total': 45, 'De_total': 26, 'Fe_total': 39, 'Hasmed_total': 20, 'alc_total': 31, 'honours_total': 55, 'minor_total': 12}, '572815': {'core_total': 26, 'De_total': 23, 'Fe_total': 42, 'Hasmed_total': 13, 'alc_total': 47, 'honours_total': 28, 'minor_total': 33}, '608952': {'core_total': 40, 'De_total': 28, 'Fe_total': 56, 'Hasmed_total': 32, 'alc_total': 43, 'honours_total': 34, 'minor_total': 18}, '628849': {'core_total': 25, 'De_total': 29, 'Fe_total': 15, 'Hasmed_total': 18, 'alc_total': 18, 'honours_total': 33, 'minor_total': 45}, '630568': {'core_total': 28, 'De_total': 45, 'Fe_total': 21, 'Hasmed_total': 39, 'alc_total': 6, 'honours_total': 48, 'minor_total': 30}, '388969': {'core_total': 43, 'De_total': 36, 'Fe_total': 30, 'Hasmed_total': 11, 'alc_total': 44, 'honours_total': 22, 'minor_total': 43}, '159438': {'core_total': 36, 'De_total': 25, 'Fe_total': 24, 'Hasmed_total': 19, 'alc_total': 30, 'honours_total': 12, 'minor_total': 30}, '478606': {'core_total': 11, 'De_total': 53, 'Fe_total': 51, 'Hasmed_total': 36, 'alc_total': 24, 'honours_total': 31, 'minor_total': 38}, '995208': {'core_total': 21, 'De_total': 6, 'Fe_total': 33, 'Hasmed_total': 28, 'alc_total': 36, 'honours_total': 9, 'minor_total': 24}, '841365': {'core_total': 7, 'De_total': 46, 'Fe_total': 23, 'Hasmed_total': 37, 'alc_total': 14, 'honours_total': 29, 'minor_total': 21}, '870642': {'core_total': 29, 'De_total': 8, 'Fe_total': 31, 'Hasmed_total': 28, 'alc_total': 41, 'honours_total': 16, 'minor_total': 8}, '970791': {'core_total': 34, 'De_total': 30, 'Fe_total': 27, 'Hasmed_total': 12, 'alc_total': 43, 'honours_total': 54, 'minor_total': 20}, '143142': {'core_total': 26, 'De_total': 31, 'Fe_total': 34, 'Hasmed_total': 44, 'alc_total': 31, 'honours_total': 38, 'minor_total': 30}, '998293': {'core_total': 24, 'De_total': 55, 'Fe_total': 31, 'Hasmed_total': 40, 'alc_total': 27, 'honours_total': 18, 'minor_total': 12}, '907454': {'core_total': 16, 'De_total': 38, 'Fe_total': 8, 'Hasmed_total': 39, 'alc_total': 46, 'honours_total': 48, 'minor_total': 50}, '681499': {'core_total': 34, 'De_total': 32, 'Fe_total': 42, 'Hasmed_total': 40, 'alc_total': 27, 'honours_total': 23, 'minor_total': 36}, '888886': {'core_total': 53, 'De_total': 33, 'Fe_total': 22, 'Hasmed_total': 19, 'alc_total': 17, 'honours_total': 23, 'minor_total': 40}, '608522': {'core_total': 26, 'De_total': 22, 'Fe_total': 24, 'Hasmed_total': 30, 'alc_total': 27, 'honours_total': 11, 'minor_total': 19}, '362471': {'core_total': 39, 'De_total': 28, 'Fe_total': 36, 'Hasmed_total': 50, 'alc_total': 8, 'honours_total': 14, 'minor_total': 39}, '465496': {'core_total': 22, 'De_total': 12, 'Fe_total': 32, 'Hasmed_total': 16, 'alc_total': 8, 'honours_total': 32, 'minor_total': 46}, '208100': {'core_total': 31, 'De_total': 10, 'Fe_total': 44, 'Hasmed_total': 23, 'alc_total': 22, 'honours_total': 17, 'minor_total': 35}, '138296': {'core_total': 14, 'De_total': 70, 'Fe_total': 16, 'Hasmed_total': 14, 'alc_total': 21, 'honours_total': 36, 'minor_total': 29}, '775967': {'core_total': 6, 'De_total': 46, 'Fe_total': 19, 'Hasmed_total': 46, 'alc_total': 33, 'honours_total': 24, 'minor_total': 23}, '692318': {'core_total': 33, 'De_total': 44, 'Fe_total': 44, 'Hasmed_total': 26, 'alc_total': 32, 'honours_total': 20, 'minor_total': 17}, '461584': {'core_total': 18, 'De_total': 47, 'Fe_total': 40, 'Hasmed_total': 42, 'alc_total': 3, 'honours_total': 41, 'minor_total': 43}, '626000': {'core_total': 23, 'De_total': 38, 'Fe_total': 23, 'Hasmed_total': 54, 'alc_total': 15, 'honours_total': 36, 'minor_total': 21}, '458200': {'core_total': 66, 'De_total': 25, 'Fe_total': 16, 'Hasmed_total': 4, 'alc_total': 18, 'honours_total': 26, 'minor_total': 35}, '581065': {'core_total': 21, 'De_total': 35, 'Fe_total': 11, 'Hasmed_total': 19, 'alc_total': 39, 'honours_total': 32, 'minor_total': 39}, '787967': {'core_total': 22, 'De_total': 39, 'Fe_total': 27, 'Hasmed_total': 32, 'alc_total': 21, 'honours_total': 35, 'minor_total': 16}, '381227': {'core_total': 25, 'De_total': 41, 'Fe_total': 17, 'Hasmed_total': 34, 'alc_total': 30, 'honours_total': 3, 'minor_total': 29}, '750259': {'core_total': 36, 'De_total': 24, 'Fe_total': 33, 'Hasmed_total': 31, 'alc_total': 49, 'honours_total': 23, 'minor_total': 13}, '881983': {'core_total': 25, 'De_total': 22, 'Fe_total': 22, 'Hasmed_total': 29, 'alc_total': 10, 'honours_total': 41, 'minor_total': 20}, '294697': {'core_total': 38, 'De_total': 25, 'Fe_total': 54, 'Hasmed_total': 56, 'alc_total': 47, 'honours_total': 35, 'minor_total': 14}, '816041': {'core_total': 41, 'De_total': 13, 'Fe_total': 22, 'Hasmed_total': 14, 'alc_total': 33, 'honours_total': 9, 'minor_total': 26}, '993835': {'core_total': 15, 'De_total': 50, 'Fe_total': 22, 'Hasmed_total': 12, 'alc_total': 19, 'honours_total': 23, 'minor_total': 34}}\n",
      "{'588946': 'pass', '145372': 'fail', '834515': 'pass', '344265': 'fail', '358405': 'fail', '781075': 'pass', '180828': 'pass', '981238': 'pass', '836881': 'pass', '310604': 'pass', '847809': 'fail', '773982': 'pass', '500658': 'pass', '810863': 'pass', '124663': 'pass', '364146': 'fail', '871746': 'pass', '270007': 'fail', '597353': 'fail', '986057': 'pass', '718510': 'fail', '836431': 'fail', '379479': 'pass', '582912': 'fail', '788020': 'fail', '613401': 'fail', '144528': 'pass', '485484': 'pass', '680096': 'fail', '199713': 'fail', '851029': 'fail', '845623': 'pass', '150503': 'pass', '214270': 'pass', '517837': 'pass', '482623': 'pass', '721490': 'pass', '955757': 'pass', '589528': 'fail', '143856': 'pass', '571782': 'pass', '973158': 'pass', '703403': 'pass', '960395': 'pass', '521087': 'pass', '461971': 'pass', '879634': 'pass', '716985': 'pass', '194063': 'fail', '265922': 'pass', '283796': 'pass', '203200': 'pass', '301135': 'fail', '327122': 'pass', '381526': 'fail', '534763': 'pass', '391848': 'pass', '329535': 'fail', '971123': 'pass', '207443': 'pass', '488661': 'pass', '782129': 'pass', '928288': 'pass', '581858': 'pass', '733782': 'fail', '282482': 'pass', '572815': 'pass', '608952': 'pass', '628849': 'pass', '630568': 'pass', '388969': 'pass', '159438': 'pass', '478606': 'fail', '995208': 'fail', '841365': 'fail', '870642': 'fail', '970791': 'pass', '143142': 'pass', '998293': 'pass', '907454': 'fail', '681499': 'pass', '888886': 'pass', '608522': 'pass', '362471': 'pass', '465496': 'fail', '208100': 'fail', '138296': 'fail', '775967': 'fail', '692318': 'pass', '461584': 'fail', '626000': 'pass', '458200': 'fail', '581065': 'pass', '787967': 'pass', '381227': 'pass', '750259': 'pass', '881983': 'pass', '294697': 'pass', '816041': 'fail', '993835': 'fail'}\n",
      "Passing bois\n",
      "['588946', '834515', '781075', '180828', '981238', '836881', '310604', '773982', '500658', '810863', '124663', '871746', '986057', '379479', '144528', '485484', '845623', '150503', '214270', '517837', '482623', '721490', '955757', '143856', '571782', '973158', '703403', '960395', '521087', '461971', '879634', '716985', '265922', '283796', '203200', '327122', '534763', '391848', '971123', '207443', '488661', '782129', '928288', '581858', '282482', '572815', '608952', '628849', '630568', '388969', '159438', '970791', '143142', '998293', '681499', '888886', '608522', '362471', '692318', '626000', '581065', '787967', '381227', '750259', '881983', '294697']\n"
     ]
    }
   ],
   "source": [
    "#TODO\n",
    "course_breakdown_dictionary = {}\n",
    "for key, vals in student_data.items():\n",
    "    core_total = 0\n",
    "    De_total = 0\n",
    "    Fe_total = 0\n",
    "    Hasmed_total = 0\n",
    "    minor_total = 0\n",
    "    honours_total = 0\n",
    "    alc_total = 0\n",
    "    for entry in vals : \n",
    "        course_type = entry['course_type']\n",
    "        credit = entry['credit']\n",
    "        credit = int(credit)\n",
    "        if course_type == 'core' : \n",
    "            core_total += credit\n",
    "        elif course_type == 'department_elective':\n",
    "            De_total += credit\n",
    "        elif course_type == 'flexible_elective' : \n",
    "            Fe_total += credit\n",
    "        elif course_type == 'hasmed_elective' : \n",
    "            Hasmed_total += credit\n",
    "        elif course_type == 'minor':\n",
    "            minor_total += credit\n",
    "        elif course_type == 'honours':\n",
    "            honours_total += credit\n",
    "        elif course_type == 'alc':\n",
    "            alc_total += credit\n",
    "\n",
    "    course_breakdown_dictionary[key] = {'core_total' : core_total, 'De_total' : De_total, 'Fe_total' : Fe_total, 'Hasmed_total' : Hasmed_total,\n",
    "                                        'alc_total' : alc_total, 'honours_total' : honours_total, 'minor_total' : minor_total}\n",
    "\n",
    "print(course_breakdown_dictionary)\n",
    "\n",
    "pass_outs = {}\n",
    "for key, dict in course_breakdown_dictionary.items() : \n",
    "    if dict['core_total'] >= 20 and dict['De_total'] >= 15 and dict['Fe_total'] >= 10 and dict['Hasmed_total'] >= 5 : \n",
    "        pass_outs[key] = 'pass'\n",
    "    else :\n",
    "        pass_outs[key] = 'fail'\n",
    "\n",
    "print(pass_outs)\n",
    "\n",
    "passers = []\n",
    "\n",
    "for key, val in pass_outs.items():\n",
    "    if val == 'pass':\n",
    "        passers.append(key)\n",
    "\n",
    "print(\"Passing bois\")\n",
    "print(passers)\n",
    "\n",
    "\n"
   ]
  },
  {
   "cell_type": "markdown",
   "metadata": {},
   "source": [
    "#### 2.d: Print out the names of all students who completed a minor \n",
    "Atleast 10 credits with minor tag in a specific department"
   ]
  },
  {
   "cell_type": "code",
   "execution_count": 78,
   "metadata": {},
   "outputs": [
    {
     "name": "stdout",
     "output_type": "stream",
     "text": [
      "Minor > 10 credits bois\n",
      "['588946', '145372', '834515', '344265', '358405', '781075', '180828', '981238', '836881', '847809', '773982', '500658', '810863', '124663', '364146', '871746', '270007', '597353', '986057', '718510', '836431', '379479', '582912', '788020', '613401', '144528', '485484', '680096', '199713', '851029', '845623', '150503', '214270', '517837', '482623', '721490', '955757', '143856', '571782', '973158', '703403', '960395', '521087', '461971', '879634', '716985', '194063', '265922', '283796', '203200', '301135', '327122', '381526', '534763', '391848', '329535', '971123', '207443', '488661', '782129', '581858', '733782', '282482', '572815', '608952', '628849', '630568', '388969', '159438', '478606', '995208', '841365', '970791', '143142', '998293', '907454', '681499', '888886', '608522', '362471', '465496', '208100', '138296', '775967', '692318', '461584', '626000', '458200', '581065', '787967', '381227', '750259', '881983', '294697', '816041', '993835']\n"
     ]
    }
   ],
   "source": [
    "#TODO\n",
    "minor = {}\n",
    "for key, dict in course_breakdown_dictionary.items() : \n",
    "    if dict['minor_total'] >= 10 : \n",
    "        minor[key] = 'minor_complete'\n",
    "    else :\n",
    "        minor[key] = 'minor_not_complete'\n",
    "\n",
    "minor_complete = []\n",
    "\n",
    "for key, val in minor.items():\n",
    "    if val == 'minor_complete':\n",
    "        minor_complete.append(key)\n",
    "\n",
    "print(\"Minor > 10 credits bois\")\n",
    "print(minor_complete)\n",
    "\n"
   ]
  },
  {
   "cell_type": "markdown",
   "metadata": {},
   "source": [
    "#### 2.e: Print out the names of all students who completed a honours\n",
    "Atleast 10 credits with honours tag and 20 core credits"
   ]
  },
  {
   "cell_type": "code",
   "execution_count": 83,
   "metadata": {},
   "outputs": [
    {
     "name": "stdout",
     "output_type": "stream",
     "text": [
      "honours_complete bois\n",
      "['588946', '145372', '834515', '781075', '836881', '310604', '773982', '500658', '810863', '124663', '364146', '871746', '986057', '718510', '379479', '582912', '788020', '613401', '144528', '485484', '199713', '845623', '150503', '214270', '517837', '482623', '721490', '955757', '589528', '143856', '571782', '973158', '703403', '960395', '521087', '461971', '879634', '716985', '265922', '283796', '203200', '327122', '534763', '391848', '971123', '207443', '488661', '782129', '928288', '581858', '282482', '572815', '608952', '628849', '630568', '388969', '159438', '870642', '970791', '143142', '998293', '681499', '888886', '608522', '362471', '465496', '208100', '692318', '626000', '458200', '581065', '787967', '750259', '881983', '294697']\n"
     ]
    }
   ],
   "source": [
    "#TODO\n",
    "honours = {}\n",
    "for key, dict in course_breakdown_dictionary.items() : \n",
    "    if dict['honours_total'] >= 10 and dict['core_total'] >= 20 : \n",
    "        honours[key] = 'honours_complete'\n",
    "    else :\n",
    "        honours[key] = 'honours_not_complete'\n",
    "\n",
    "# print(honours)\n",
    "\n",
    "honours_complete = []\n",
    "\n",
    "for key, val in honours.items():\n",
    "    if val == 'honours_complete':\n",
    "        honours_complete.append(key)\n",
    "\n",
    "print(\"honours_complete bois\")\n",
    "print(honours_complete)"
   ]
  },
  {
   "cell_type": "markdown",
   "metadata": {},
   "source": [
    "# **SciPy** "
   ]
  },
  {
   "cell_type": "markdown",
   "metadata": {},
   "source": [
    "## Part A\n",
    "Minimize the function $f(x, y) = 2(x - y - 3)^2 + 4(x + 2y + 1)^4$.<br>\n",
    "With the constraints : $ x - y \\ge -3, (x + 2)^2 + (y + 1)^2 \\le 5$ <br>\n",
    "Using scipy.optimize.minimize with constraints. (Hint: Look at the examples in the official documentation)"
   ]
  },
  {
   "cell_type": "code",
   "execution_count": 86,
   "metadata": {},
   "outputs": [
    {
     "name": "stdout",
     "output_type": "stream",
     "text": [
      "0.2349250275449747 -0.928514887569978\n",
      "minimize\n",
      "7.345026216976594\n"
     ]
    }
   ],
   "source": [
    "#TODO\n",
    "from scipy.optimize import minimize\n",
    "\n",
    "def f(vars):\n",
    "    x, y = vars\n",
    "    return 2 * (x - y - 3)**2 + 4 * (x + 2*y + 1)**4\n",
    "\n",
    "def c1(vars):\n",
    "    x, y = vars\n",
    "    return x - y + 3  \n",
    "\n",
    "\n",
    "def c2(vars):\n",
    "    x, y = vars\n",
    "    return 5 - ((x + 2)**2 + (y + 1)**2) \n",
    "\n",
    "\n",
    "cs = [\n",
    "    {\"type\": \"ineq\", \"fun\": c1},  \n",
    "    {\"type\": \"ineq\", \"fun\": c2}   \n",
    "]\n",
    "\n",
    "start = (0, 0)\n",
    "result = minimize(f, start, constraints=cs, method='SLSQP')\n",
    "print(result.x[0], result.x[1])\n",
    "print(\"minimize\")\n",
    "print(result.fun)"
   ]
  },
  {
   "cell_type": "markdown",
   "metadata": {},
   "source": [
    "# Part B\n",
    "Evaluate the line integral of the function $f(x, y) = x^2 + y^4$ along the circle $ x^2 + y^2 = 3 $ anticlockwise (scalar integral, not vector). You must use scipy for integration but you may use parameterization"
   ]
  },
  {
   "cell_type": "code",
   "execution_count": 87,
   "metadata": {},
   "outputs": [
    {
     "name": "stdout",
     "output_type": "stream",
     "text": [
      "53.053631403850865\n"
     ]
    }
   ],
   "source": [
    "## so i parametrized the curve and got the final integral to be => \n",
    "# from 0 to 2pi, integrate 3cos^2(t) + 9sin^4(t) root(3) dt\n",
    "# so that is what I formulated with scipy\n",
    "import numpy as np\n",
    "from scipy.integrate import quad\n",
    "\n",
    "def integrand(t):\n",
    "    return np.sqrt(3) * (3 * np.cos(t)**2 + 9 * np.sin(t)**4)\n",
    "\n",
    "result, _ = quad(integrand, 0, 2 * np.pi)\n",
    "print(result)\n",
    "\n"
   ]
  },
  {
   "cell_type": "markdown",
   "metadata": {},
   "source": [
    "# **Numpy**"
   ]
  },
  {
   "cell_type": "markdown",
   "metadata": {},
   "source": [
    "### Read Lisan_Al_Gaib.pdf for problem description and complete the following functions"
   ]
  },
  {
   "cell_type": "code",
   "execution_count": 166,
   "metadata": {},
   "outputs": [],
   "source": [
    "import time # to time the execution\n",
    "import numpy as np\n",
    "import matplotlib.pyplot as plt"
   ]
  },
  {
   "cell_type": "code",
   "execution_count": 147,
   "metadata": {},
   "outputs": [
    {
     "name": "stdout",
     "output_type": "stream",
     "text": [
      "(60, 2)\n"
     ]
    }
   ],
   "source": [
    "### TODO 1\n",
    "### Load data from data_path\n",
    "### Check the input file spice_locations.txt to understand the Data Format\n",
    "### Return : np array of size Nx2\n",
    "def load_data(data_path):\n",
    "    with open(data_path, 'r') as file : \n",
    "        lines = file.readlines()\n",
    "    data = []\n",
    "    for line in lines : \n",
    "        values = line.strip().split(',')  \n",
    "        data.append(values)\n",
    "    data = np.array(data, dtype=float)\n",
    "    return data \n",
    "\n",
    "data = load_data('spice_locations.txt')\n",
    "print(data.shape)\n",
    "# print(data)"
   ]
  },
  {
   "cell_type": "code",
   "execution_count": 158,
   "metadata": {},
   "outputs": [
    {
     "name": "stdout",
     "output_type": "stream",
     "text": [
      "[[ 6.31551713  6.11649063]\n",
      " [-3.09087516 -2.08297745]\n",
      " [-0.34003029 -0.00670758]\n",
      " [ 5.8548359   5.46897798]\n",
      " [ 0.82816017  1.04198674]]\n"
     ]
    }
   ],
   "source": [
    "### TODO 2.1\n",
    "### If init_centers is None, initialize the centers by selecting K data points at random without replacement\n",
    "### Else, use the centers provided in init_centers\n",
    "### Return : np array of size Kx2\n",
    "import random\n",
    "\n",
    "def initialise_centers(data, K, init_centers=None):\n",
    "    if init_centers is None:\n",
    "        values = list(range(len(data)))\n",
    "        centers = []\n",
    "        selected = random.sample(values, K)\n",
    "        for i in range(len(selected)):\n",
    "            centers.append(data[selected[i]])\n",
    "    else: centers = init_centers\n",
    "    return np.array(centers)\n",
    "\n",
    "random.seed(42) \n",
    "K = 5\n",
    "init_centers = initialise_centers(data, K, init_centers=None)\n",
    "print(init_centers)\n",
    "\n"
   ]
  },
  {
   "cell_type": "code",
   "execution_count": 149,
   "metadata": {},
   "outputs": [
    {
     "name": "stdout",
     "output_type": "stream",
     "text": [
      "(60,)\n"
     ]
    }
   ],
   "source": [
    "### TODO 2.2\n",
    "### Initialize the labels to all ones to size (N,) where N is the number of data points\n",
    "### Return : np array of size N\n",
    "def initialise_labels(data):\n",
    "    labels = [1] * len(data)\n",
    "    return np.array(labels)\n",
    "\n",
    "labels = initialise_labels(data)\n",
    "print(labels.shape)\n"
   ]
  },
  {
   "cell_type": "code",
   "execution_count": 154,
   "metadata": {},
   "outputs": [],
   "source": [
    "### TODO 3.1 : E step\n",
    "### For Each data point, find the distance to each center\n",
    "### Return : np array of size NxK\n",
    "def calculate_distances_lists(data, centers):\n",
    "    distance_matrix = []\n",
    "    for i in range(len(data)):\n",
    "        row = []\n",
    "        for j in range(len(centers)):\n",
    "            distance_i_j = np.sqrt((data[i][0] - centers[j][0])**2 + (data[i][1] - centers[j][1])**2)\n",
    "            row.append(distance_i_j)\n",
    "        distance_matrix.append(row)\n",
    "    return np.array(distance_matrix)\\\n",
    "    \n",
    "# earlier has used lists, but then realized that brodcasting is better option here\n",
    "\n",
    "def calculate_distances(data, centers):\n",
    "    distance_matrix = np.sqrt(((data[:, np.newaxis, :] - centers[np.newaxis, :, :]) ** 2).sum(axis=2))\n",
    "    return distance_matrix\n",
    "\n",
    "\n",
    "distance_matrix = calculate_distances(data, init_centers)\n",
    "# print(distance_matrix)\n"
   ]
  },
  {
   "cell_type": "code",
   "execution_count": 162,
   "metadata": {},
   "outputs": [],
   "source": [
    "### TODO 3.2 : E step\n",
    "### For Each data point, assign the label of the nearest center\n",
    "### Return : np array of size N\n",
    "def update_labels(distances):\n",
    "    for i, row in enumerate(distances):\n",
    "        closest_center = np.argmin(row)\n",
    "        labels[i] = closest_center\n",
    "    return np.array(labels)\n",
    "\n",
    "new_labels = update_labels(distance_matrix)\n"
   ]
  },
  {
   "cell_type": "code",
   "execution_count": 159,
   "metadata": {},
   "outputs": [
    {
     "name": "stdout",
     "output_type": "stream",
     "text": [
      "[[ 5.96268946  6.50732165]\n",
      " [-2.56208032 -1.23910867]\n",
      " [-1.68864461  0.59915242]\n",
      " [ 4.29128582  5.20872823]\n",
      " [ 1.52893289  2.06322886]]\n"
     ]
    }
   ],
   "source": [
    "### TODO 4 : M step\n",
    "### Update the centers to the mean of the data points assigned to it\n",
    "### Return : np array of size Kx2\n",
    "def update_centers(data, labels, K):\n",
    "    new_centres = []\n",
    "    for label in range(K) : \n",
    "        same_label = []\n",
    "        for i in range(len(labels)):\n",
    "            if label == labels[i] : \n",
    "                same_label.append(i)\n",
    "        same_label_points = data[same_label]\n",
    "        new_centres.append(np.mean(same_label_points, axis = 0))\n",
    "    return np.array(new_centres)\n",
    "\n",
    "new_centers = update_centers(data, labels, K)\n",
    "print(new_centers)\n"
   ]
  },
  {
   "cell_type": "code",
   "execution_count": 161,
   "metadata": {},
   "outputs": [],
   "source": [
    "### TODO 6 : Check convergence\n",
    "### Check if the labels have changed from the previous iteration\n",
    "### Return : True / False\n",
    "def check_termination(labels1, labels2):\n",
    "    return np.array_equal(labels1, labels2)"
   ]
  },
  {
   "cell_type": "code",
   "execution_count": null,
   "metadata": {},
   "outputs": [],
   "source": [
    "### DON'T CHANGE ANYTHING IN THE FOLLOWING FUNCTION\n",
    "def kmeans(data_path:str, K:int, init_centers):\n",
    "    '''\n",
    "    Input :\n",
    "        data (type str): path to the file containing the data\n",
    "        K (type int): number of clusters\n",
    "        init_centers (type numpy.ndarray): initial centers. shape = (K, 2) or None\n",
    "    Output :\n",
    "        centers (type numpy.ndarray): final centers. shape = (K, 2)\n",
    "        labels (type numpy.ndarray): label of each data point. shape = (N,)\n",
    "        time (type float): time taken by the algorithm to converge in seconds\n",
    "    N is the number of data points each of shape (2,)\n",
    "    '''\n",
    "    data = load_data(data_path)    \n",
    "    centers = initialise_centers(data, K, init_centers)\n",
    "    labels = initialise_labels(data)\n",
    "\n",
    "    start_time = time.time() # Time stamp \n",
    "\n",
    "    while True:\n",
    "        distances = calculate_distances(data, centers)\n",
    "        labels_new = update_labels(distances)\n",
    "        centers = update_centers(data, labels_new, K)\n",
    "        if check_termination(labels, labels_new): break\n",
    "        else: labels = labels_new\n",
    " \n",
    "    end_time = time.time() # Time stamp after the algorithm ends\n",
    "    return centers, labels, end_time - start_time \n",
    "\n",
    "# centers, labels, end_time = kmeans('spice_locations.txt', 5, None)\n"
   ]
  },
  {
   "cell_type": "code",
   "execution_count": 168,
   "metadata": {},
   "outputs": [],
   "source": [
    "### TODO 7\n",
    "def visualise(data_path, labels, centers):\n",
    "    data = load_data(data_path)\n",
    "\n",
    "    # Scatter plot of the data points\n",
    "    plt.scatter(data[:, 0], data[:, 1], c=labels, s=50, cmap='viridis')\n",
    "    plt.scatter(centers[:, 0], centers[:, 1], c='black', s=200, alpha=0.5)\n",
    "\n",
    "    ### Set title as 'K-means clustering'\n",
    "    plt.title('K-means clustering')\n",
    "\n",
    "    ### Set xlabel as 'Longitude'\n",
    "    plt.xlabel('Longitude')\n",
    "\n",
    "    ### Set ylabel as 'Latitude'\n",
    "    plt.ylabel('Latitude')\n",
    "    ### Save the plot as 'kmeans.png'\n",
    "    plt.savefig('kmeans.png')\n",
    "    ## DO NOT CHANGE THE FOLLOWING LINE\n",
    "    return plt"
   ]
  },
  {
   "cell_type": "code",
   "execution_count": 169,
   "metadata": {},
   "outputs": [
    {
     "name": "stdout",
     "output_type": "stream",
     "text": [
      "Time taken for the algorithm to converge: 0.0009989738464355469\n"
     ]
    },
    {
     "data": {
      "text/plain": [
       "<module 'matplotlib.pyplot' from 'c:\\\\Users\\\\moond\\\\AppData\\\\Local\\\\Programs\\\\Python\\\\Python312\\\\Lib\\\\site-packages\\\\matplotlib\\\\pyplot.py'>"
      ]
     },
     "execution_count": 169,
     "metadata": {},
     "output_type": "execute_result"
    },
    {
     "data": {
      "image/png": "[encoded data removed]",
      "text/plain": [
       "<Figure size 640x480 with 1 Axes>"
      ]
     },
     "metadata": {},
     "output_type": "display_data"
    }
   ],
   "source": [
    "### After you have completed the above functions, run the following code to generate the plot\n",
    "data_path = 'spice_locations.txt'\n",
    "K, init_centers = 2, None\n",
    "centers, labels, time_taken = kmeans(data_path, K, init_centers)\n",
    "print('Time taken for the algorithm to converge:', time_taken)\n",
    "visualise(data_path, labels, centers)"
   ]
  },
  {
   "cell_type": "code",
   "execution_count": null,
   "metadata": {},
   "outputs": [],
   "source": []
  }
 ],
 "metadata": {
  "kernelspec": {
   "display_name": "Python 3",
   "language": "python",
   "name": "python3"
  },
  "language_info": {
   "codemirror_mode": {
    "name": "ipython",
    "version": 3
   },
   "file_extension": ".py",
   "mimetype": "text/x-python",
   "name": "python",
   "nbconvert_exporter": "python",
   "pygments_lexer": "ipython3",
   "version": "3.12.5"
  }
 },
 "nbformat": 4,
 "nbformat_minor": 2
}
